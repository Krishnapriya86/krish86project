{
 "cells": [
  {
   "cell_type": "code",
   "execution_count": 19,
   "id": "b06d20e2-c66c-4252-9e46-3696fb4984ca",
   "metadata": {},
   "outputs": [],
   "source": [
    "import pandas as pd\n",
    "import numpy as np\n",
    "from sklearn.preprocessing import LabelEncoder"
   ]
  },
  {
   "cell_type": "code",
   "execution_count": 24,
   "id": "003fc27c-c15d-4a8a-ada4-43b6547e8cb0",
   "metadata": {},
   "outputs": [
    {
     "name": "stdout",
     "output_type": "stream",
     "text": [
      "Defaulting to user installation because normal site-packages is not writeable\n",
      "Requirement already satisfied: xgboost in c:\\users\\jithi\\appdata\\roaming\\python\\python312\\site-packages (2.1.4)\n",
      "Requirement already satisfied: numpy in c:\\programdata\\anaconda3\\lib\\site-packages (from xgboost) (1.26.4)\n",
      "Requirement already satisfied: scipy in c:\\programdata\\anaconda3\\lib\\site-packages (from xgboost) (1.13.1)\n",
      "Note: you may need to restart the kernel to use updated packages.\n"
     ]
    }
   ],
   "source": [
    "pip install xgboost"
   ]
  },
  {
   "cell_type": "code",
   "execution_count": null,
   "id": "83c0e726-1249-4d55-b50a-851ac48f7cd5",
   "metadata": {},
   "outputs": [],
   "source": [
    "import matplotlib.pyplot as plt\n",
    "from imblearn.over_sampling import SMOTE\n",
    "from sklearn.model_selection import train_test_split\n",
    "from sklearn.preprocessing import StandardScaler, LabelEncoder\n",
    "from sklearn.ensemble import RandomForestClassifier\n",
    "from xgboost import XGBClassifier\n",
    "from sklearn.linear_model import LogisticRegression\n",
    "from sklearn.metrics import accuracy_score, classification_report, confusion_matrix, ConfusionMatrixDisplay\n",
    "import shap"
   ]
  },
  {
   "cell_type": "code",
   "execution_count": 29,
   "id": "9d978d62-7fc3-4184-90f1-676cbcceb8c2",
   "metadata": {},
   "outputs": [],
   "source": [
    "from sklearn.inspection import permutation_importance\n",
    "from sklearn.utils.validation import check_is_fitted"
   ]
  },
  {
   "cell_type": "code",
   "execution_count": 31,
   "id": "3949faa8-a5fc-4923-8adc-eb351d442e8d",
   "metadata": {},
   "outputs": [],
   "source": [
    "df = pd.read_csv(\"C:\\\\Users\\\\jithi\\\\Desktop\\\\lung_cancer_data.csv\")"
   ]
  },
  {
   "cell_type": "code",
   "execution_count": 32,
   "id": "0f8260b9-bded-4a04-8f52-213faa3ad0fa",
   "metadata": {},
   "outputs": [
    {
     "data": {
      "text/html": [
       "<div>\n",
       "<style scoped>\n",
       "    .dataframe tbody tr th:only-of-type {\n",
       "        vertical-align: middle;\n",
       "    }\n",
       "\n",
       "    .dataframe tbody tr th {\n",
       "        vertical-align: top;\n",
       "    }\n",
       "\n",
       "    .dataframe thead th {\n",
       "        text-align: right;\n",
       "    }\n",
       "</style>\n",
       "<table border=\"1\" class=\"dataframe\">\n",
       "  <thead>\n",
       "    <tr style=\"text-align: right;\">\n",
       "      <th></th>\n",
       "      <th>Patient_ID</th>\n",
       "      <th>Age</th>\n",
       "      <th>Gender</th>\n",
       "      <th>Smoking_History</th>\n",
       "      <th>Years_Smoked</th>\n",
       "      <th>Pack_Years</th>\n",
       "      <th>Family_History_Cancer</th>\n",
       "      <th>Occupation</th>\n",
       "      <th>Exposure_to_Toxins</th>\n",
       "      <th>Residential_Area</th>\n",
       "      <th>...</th>\n",
       "      <th>Previous_Cancer_Diagnosis</th>\n",
       "      <th>Tumor_Size_cm</th>\n",
       "      <th>Metastasis_Status</th>\n",
       "      <th>Stage_of_Cancer</th>\n",
       "      <th>Treatment_Type</th>\n",
       "      <th>Survival_Years</th>\n",
       "      <th>Follow_Up_Visits</th>\n",
       "      <th>Medication_Response</th>\n",
       "      <th>Symptom_Progression</th>\n",
       "      <th>Year_of_Diagnosis</th>\n",
       "    </tr>\n",
       "  </thead>\n",
       "  <tbody>\n",
       "    <tr>\n",
       "      <th>0</th>\n",
       "      <td>1</td>\n",
       "      <td>69</td>\n",
       "      <td>Male</td>\n",
       "      <td>Never</td>\n",
       "      <td>30</td>\n",
       "      <td>3</td>\n",
       "      <td>False</td>\n",
       "      <td>Farmer</td>\n",
       "      <td>False</td>\n",
       "      <td>Urban</td>\n",
       "      <td>...</td>\n",
       "      <td>True</td>\n",
       "      <td>11.02</td>\n",
       "      <td>True</td>\n",
       "      <td>III</td>\n",
       "      <td>Surgery</td>\n",
       "      <td>12</td>\n",
       "      <td>24</td>\n",
       "      <td>Good</td>\n",
       "      <td>Stable</td>\n",
       "      <td>2007</td>\n",
       "    </tr>\n",
       "    <tr>\n",
       "      <th>1</th>\n",
       "      <td>2</td>\n",
       "      <td>32</td>\n",
       "      <td>Female</td>\n",
       "      <td>Former</td>\n",
       "      <td>6</td>\n",
       "      <td>61</td>\n",
       "      <td>False</td>\n",
       "      <td>Office Worker</td>\n",
       "      <td>False</td>\n",
       "      <td>Urban</td>\n",
       "      <td>...</td>\n",
       "      <td>False</td>\n",
       "      <td>14.29</td>\n",
       "      <td>True</td>\n",
       "      <td>II</td>\n",
       "      <td>Chemotherapy</td>\n",
       "      <td>6</td>\n",
       "      <td>12</td>\n",
       "      <td>Poor</td>\n",
       "      <td>Stable</td>\n",
       "      <td>2009</td>\n",
       "    </tr>\n",
       "    <tr>\n",
       "      <th>2</th>\n",
       "      <td>3</td>\n",
       "      <td>89</td>\n",
       "      <td>Male</td>\n",
       "      <td>Never</td>\n",
       "      <td>2</td>\n",
       "      <td>9</td>\n",
       "      <td>True</td>\n",
       "      <td>Office Worker</td>\n",
       "      <td>True</td>\n",
       "      <td>Rural</td>\n",
       "      <td>...</td>\n",
       "      <td>False</td>\n",
       "      <td>9.47</td>\n",
       "      <td>False</td>\n",
       "      <td>III</td>\n",
       "      <td>Chemotherapy</td>\n",
       "      <td>6</td>\n",
       "      <td>15</td>\n",
       "      <td>Good</td>\n",
       "      <td>Worsening</td>\n",
       "      <td>2015</td>\n",
       "    </tr>\n",
       "    <tr>\n",
       "      <th>3</th>\n",
       "      <td>4</td>\n",
       "      <td>78</td>\n",
       "      <td>Female</td>\n",
       "      <td>Never</td>\n",
       "      <td>11</td>\n",
       "      <td>69</td>\n",
       "      <td>False</td>\n",
       "      <td>Factory Worker</td>\n",
       "      <td>True</td>\n",
       "      <td>Urban</td>\n",
       "      <td>...</td>\n",
       "      <td>False</td>\n",
       "      <td>2.22</td>\n",
       "      <td>False</td>\n",
       "      <td>IV</td>\n",
       "      <td>Chemotherapy</td>\n",
       "      <td>13</td>\n",
       "      <td>25</td>\n",
       "      <td>Moderate</td>\n",
       "      <td>Improving</td>\n",
       "      <td>2012</td>\n",
       "    </tr>\n",
       "    <tr>\n",
       "      <th>4</th>\n",
       "      <td>5</td>\n",
       "      <td>38</td>\n",
       "      <td>Male</td>\n",
       "      <td>Former</td>\n",
       "      <td>11</td>\n",
       "      <td>57</td>\n",
       "      <td>False</td>\n",
       "      <td>Farmer</td>\n",
       "      <td>False</td>\n",
       "      <td>Rural</td>\n",
       "      <td>...</td>\n",
       "      <td>False</td>\n",
       "      <td>8.26</td>\n",
       "      <td>False</td>\n",
       "      <td>III</td>\n",
       "      <td>Palliative</td>\n",
       "      <td>3</td>\n",
       "      <td>4</td>\n",
       "      <td>Good</td>\n",
       "      <td>Stable</td>\n",
       "      <td>2014</td>\n",
       "    </tr>\n",
       "  </tbody>\n",
       "</table>\n",
       "<p>5 rows × 30 columns</p>\n",
       "</div>"
      ],
      "text/plain": [
       "   Patient_ID  Age  Gender Smoking_History  Years_Smoked  Pack_Years  \\\n",
       "0           1   69    Male           Never            30           3   \n",
       "1           2   32  Female          Former             6          61   \n",
       "2           3   89    Male           Never             2           9   \n",
       "3           4   78  Female           Never            11          69   \n",
       "4           5   38    Male          Former            11          57   \n",
       "\n",
       "   Family_History_Cancer      Occupation  Exposure_to_Toxins Residential_Area  \\\n",
       "0                  False          Farmer               False            Urban   \n",
       "1                  False   Office Worker               False            Urban   \n",
       "2                   True   Office Worker                True            Rural   \n",
       "3                  False  Factory Worker                True            Urban   \n",
       "4                  False          Farmer               False            Rural   \n",
       "\n",
       "   ...  Previous_Cancer_Diagnosis  Tumor_Size_cm  Metastasis_Status  \\\n",
       "0  ...                       True          11.02               True   \n",
       "1  ...                      False          14.29               True   \n",
       "2  ...                      False           9.47              False   \n",
       "3  ...                      False           2.22              False   \n",
       "4  ...                      False           8.26              False   \n",
       "\n",
       "   Stage_of_Cancer  Treatment_Type  Survival_Years Follow_Up_Visits  \\\n",
       "0              III         Surgery              12               24   \n",
       "1               II    Chemotherapy               6               12   \n",
       "2              III    Chemotherapy               6               15   \n",
       "3               IV    Chemotherapy              13               25   \n",
       "4              III      Palliative               3                4   \n",
       "\n",
       "  Medication_Response  Symptom_Progression Year_of_Diagnosis  \n",
       "0                Good               Stable              2007  \n",
       "1                Poor               Stable              2009  \n",
       "2                Good            Worsening              2015  \n",
       "3            Moderate            Improving              2012  \n",
       "4                Good               Stable              2014  \n",
       "\n",
       "[5 rows x 30 columns]"
      ]
     },
     "execution_count": 32,
     "metadata": {},
     "output_type": "execute_result"
    }
   ],
   "source": [
    "df.head()"
   ]
  },
  {
   "cell_type": "code",
   "execution_count": 35,
   "id": "8760ff22-c4b3-45d5-bbb9-a42f054bb97c",
   "metadata": {},
   "outputs": [
    {
     "data": {
      "text/plain": [
       "Index(['Patient_ID', 'Age', 'Gender', 'Smoking_History', 'Years_Smoked',\n",
       "       'Pack_Years', 'Family_History_Cancer', 'Occupation',\n",
       "       'Exposure_to_Toxins', 'Residential_Area', 'BMI',\n",
       "       'Lung_Function_Test_Result', 'Chest_Pain_Symptoms',\n",
       "       'Shortness_of_Breath', 'Chronic_Cough', 'Weight_Loss',\n",
       "       'Physical_Activity_Level', 'Dietary_Habits', 'Air_Quality_Index',\n",
       "       'Comorbidities', 'Previous_Cancer_Diagnosis', 'Tumor_Size_cm',\n",
       "       'Metastasis_Status', 'Stage_of_Cancer', 'Treatment_Type',\n",
       "       'Survival_Years', 'Follow_Up_Visits', 'Medication_Response',\n",
       "       'Symptom_Progression', 'Year_of_Diagnosis'],\n",
       "      dtype='object')"
      ]
     },
     "execution_count": 35,
     "metadata": {},
     "output_type": "execute_result"
    }
   ],
   "source": [
    "df.columns"
   ]
  },
  {
   "cell_type": "code",
   "execution_count": 37,
   "id": "e9b4e44c-b83e-4e93-839c-00f360aa3f5a",
   "metadata": {},
   "outputs": [
    {
     "data": {
      "text/plain": [
       "(300000, 30)"
      ]
     },
     "execution_count": 37,
     "metadata": {},
     "output_type": "execute_result"
    }
   ],
   "source": [
    "df.shape"
   ]
  },
  {
   "cell_type": "code",
   "execution_count": 39,
   "id": "2c0f78d8-0c7a-449a-8ae3-02137e6f5239",
   "metadata": {},
   "outputs": [],
   "source": [
    "unwanted_columns = ['Patient_ID', 'Occupation', 'Residential_Area']"
   ]
  },
  {
   "cell_type": "code",
   "execution_count": 41,
   "id": "602b5a62-df0b-4780-b6a6-99515dea03f5",
   "metadata": {},
   "outputs": [
    {
     "name": "stdout",
     "output_type": "stream",
     "text": [
      "<class 'pandas.core.frame.DataFrame'>\n",
      "RangeIndex: 300000 entries, 0 to 299999\n",
      "Data columns (total 30 columns):\n",
      " #   Column                     Non-Null Count   Dtype  \n",
      "---  ------                     --------------   -----  \n",
      " 0   Patient_ID                 300000 non-null  int64  \n",
      " 1   Age                        300000 non-null  int64  \n",
      " 2   Gender                     300000 non-null  object \n",
      " 3   Smoking_History            300000 non-null  object \n",
      " 4   Years_Smoked               300000 non-null  int64  \n",
      " 5   Pack_Years                 300000 non-null  int64  \n",
      " 6   Family_History_Cancer      300000 non-null  bool   \n",
      " 7   Occupation                 300000 non-null  object \n",
      " 8   Exposure_to_Toxins         300000 non-null  bool   \n",
      " 9   Residential_Area           300000 non-null  object \n",
      " 10  BMI                        300000 non-null  float64\n",
      " 11  Lung_Function_Test_Result  300000 non-null  float64\n",
      " 12  Chest_Pain_Symptoms        300000 non-null  bool   \n",
      " 13  Shortness_of_Breath        300000 non-null  bool   \n",
      " 14  Chronic_Cough              300000 non-null  bool   \n",
      " 15  Weight_Loss                300000 non-null  bool   \n",
      " 16  Physical_Activity_Level    300000 non-null  object \n",
      " 17  Dietary_Habits             300000 non-null  object \n",
      " 18  Air_Quality_Index          300000 non-null  int64  \n",
      " 19  Comorbidities              209624 non-null  object \n",
      " 20  Previous_Cancer_Diagnosis  300000 non-null  bool   \n",
      " 21  Tumor_Size_cm              300000 non-null  float64\n",
      " 22  Metastasis_Status          300000 non-null  bool   \n",
      " 23  Stage_of_Cancer            300000 non-null  object \n",
      " 24  Treatment_Type             300000 non-null  object \n",
      " 25  Survival_Years             300000 non-null  int64  \n",
      " 26  Follow_Up_Visits           300000 non-null  int64  \n",
      " 27  Medication_Response        300000 non-null  object \n",
      " 28  Symptom_Progression        300000 non-null  object \n",
      " 29  Year_of_Diagnosis          300000 non-null  int64  \n",
      "dtypes: bool(8), float64(3), int64(8), object(11)\n",
      "memory usage: 52.6+ MB\n"
     ]
    }
   ],
   "source": [
    "df.info()"
   ]
  },
  {
   "cell_type": "code",
   "execution_count": 43,
   "id": "4599eeba-5711-406b-be7d-336d0d61b7d1",
   "metadata": {},
   "outputs": [
    {
     "data": {
      "text/plain": [
       "Patient_ID                       0\n",
       "Age                              0\n",
       "Gender                           0\n",
       "Smoking_History                  0\n",
       "Years_Smoked                     0\n",
       "Pack_Years                       0\n",
       "Family_History_Cancer            0\n",
       "Occupation                       0\n",
       "Exposure_to_Toxins               0\n",
       "Residential_Area                 0\n",
       "BMI                              0\n",
       "Lung_Function_Test_Result        0\n",
       "Chest_Pain_Symptoms              0\n",
       "Shortness_of_Breath              0\n",
       "Chronic_Cough                    0\n",
       "Weight_Loss                      0\n",
       "Physical_Activity_Level          0\n",
       "Dietary_Habits                   0\n",
       "Air_Quality_Index                0\n",
       "Comorbidities                90376\n",
       "Previous_Cancer_Diagnosis        0\n",
       "Tumor_Size_cm                    0\n",
       "Metastasis_Status                0\n",
       "Stage_of_Cancer                  0\n",
       "Treatment_Type                   0\n",
       "Survival_Years                   0\n",
       "Follow_Up_Visits                 0\n",
       "Medication_Response              0\n",
       "Symptom_Progression              0\n",
       "Year_of_Diagnosis                0\n",
       "dtype: int64"
      ]
     },
     "execution_count": 43,
     "metadata": {},
     "output_type": "execute_result"
    }
   ],
   "source": [
    "df.isnull().sum()"
   ]
  },
  {
   "cell_type": "code",
   "execution_count": 45,
   "id": "b5276d62-d661-4a8c-ae2c-b3d75ff2fe46",
   "metadata": {},
   "outputs": [],
   "source": [
    "categorical_cols = ['Gender', 'Smoking_History', 'Occupation', 'Residential_Area',\n",
    "                    'Physical_Activity_Level', 'Dietary_Habits', 'Comorbidities',\n",
    "                    'Stage_of_Cancer', 'Treatment_Type', 'Medication_Response', 'Symptom_Progression']"
   ]
  },
  {
   "cell_type": "code",
   "execution_count": 47,
   "id": "7090f1a2-4e20-428e-b6b4-07be9e92c2aa",
   "metadata": {},
   "outputs": [],
   "source": [
    "label_encoders = {}\n",
    "categorical_columns = df.select_dtypes(include=['object']).columns\n",
    "for col in categorical_columns:\n",
    "    le = LabelEncoder()\n",
    "    df[col] = le.fit_transform(df[col])\n",
    "    label_encoders[col] = le\n"
   ]
  },
  {
   "cell_type": "code",
   "execution_count": 48,
   "id": "14888e68-1262-4edf-95ac-1b17a281202e",
   "metadata": {},
   "outputs": [
    {
     "data": {
      "text/html": [
       "<div>\n",
       "<style scoped>\n",
       "    .dataframe tbody tr th:only-of-type {\n",
       "        vertical-align: middle;\n",
       "    }\n",
       "\n",
       "    .dataframe tbody tr th {\n",
       "        vertical-align: top;\n",
       "    }\n",
       "\n",
       "    .dataframe thead th {\n",
       "        text-align: right;\n",
       "    }\n",
       "</style>\n",
       "<table border=\"1\" class=\"dataframe\">\n",
       "  <thead>\n",
       "    <tr style=\"text-align: right;\">\n",
       "      <th></th>\n",
       "      <th>Patient_ID</th>\n",
       "      <th>Age</th>\n",
       "      <th>Gender</th>\n",
       "      <th>Smoking_History</th>\n",
       "      <th>Years_Smoked</th>\n",
       "      <th>Pack_Years</th>\n",
       "      <th>Family_History_Cancer</th>\n",
       "      <th>Occupation</th>\n",
       "      <th>Exposure_to_Toxins</th>\n",
       "      <th>Residential_Area</th>\n",
       "      <th>...</th>\n",
       "      <th>Previous_Cancer_Diagnosis</th>\n",
       "      <th>Tumor_Size_cm</th>\n",
       "      <th>Metastasis_Status</th>\n",
       "      <th>Stage_of_Cancer</th>\n",
       "      <th>Treatment_Type</th>\n",
       "      <th>Survival_Years</th>\n",
       "      <th>Follow_Up_Visits</th>\n",
       "      <th>Medication_Response</th>\n",
       "      <th>Symptom_Progression</th>\n",
       "      <th>Year_of_Diagnosis</th>\n",
       "    </tr>\n",
       "  </thead>\n",
       "  <tbody>\n",
       "    <tr>\n",
       "      <th>0</th>\n",
       "      <td>1</td>\n",
       "      <td>69</td>\n",
       "      <td>1</td>\n",
       "      <td>2</td>\n",
       "      <td>30</td>\n",
       "      <td>3</td>\n",
       "      <td>False</td>\n",
       "      <td>1</td>\n",
       "      <td>False</td>\n",
       "      <td>2</td>\n",
       "      <td>...</td>\n",
       "      <td>True</td>\n",
       "      <td>11.02</td>\n",
       "      <td>True</td>\n",
       "      <td>2</td>\n",
       "      <td>3</td>\n",
       "      <td>12</td>\n",
       "      <td>24</td>\n",
       "      <td>0</td>\n",
       "      <td>1</td>\n",
       "      <td>2007</td>\n",
       "    </tr>\n",
       "    <tr>\n",
       "      <th>1</th>\n",
       "      <td>2</td>\n",
       "      <td>32</td>\n",
       "      <td>0</td>\n",
       "      <td>1</td>\n",
       "      <td>6</td>\n",
       "      <td>61</td>\n",
       "      <td>False</td>\n",
       "      <td>2</td>\n",
       "      <td>False</td>\n",
       "      <td>2</td>\n",
       "      <td>...</td>\n",
       "      <td>False</td>\n",
       "      <td>14.29</td>\n",
       "      <td>True</td>\n",
       "      <td>1</td>\n",
       "      <td>0</td>\n",
       "      <td>6</td>\n",
       "      <td>12</td>\n",
       "      <td>2</td>\n",
       "      <td>1</td>\n",
       "      <td>2009</td>\n",
       "    </tr>\n",
       "    <tr>\n",
       "      <th>2</th>\n",
       "      <td>3</td>\n",
       "      <td>89</td>\n",
       "      <td>1</td>\n",
       "      <td>2</td>\n",
       "      <td>2</td>\n",
       "      <td>9</td>\n",
       "      <td>True</td>\n",
       "      <td>2</td>\n",
       "      <td>True</td>\n",
       "      <td>0</td>\n",
       "      <td>...</td>\n",
       "      <td>False</td>\n",
       "      <td>9.47</td>\n",
       "      <td>False</td>\n",
       "      <td>2</td>\n",
       "      <td>0</td>\n",
       "      <td>6</td>\n",
       "      <td>15</td>\n",
       "      <td>0</td>\n",
       "      <td>2</td>\n",
       "      <td>2015</td>\n",
       "    </tr>\n",
       "    <tr>\n",
       "      <th>3</th>\n",
       "      <td>4</td>\n",
       "      <td>78</td>\n",
       "      <td>0</td>\n",
       "      <td>2</td>\n",
       "      <td>11</td>\n",
       "      <td>69</td>\n",
       "      <td>False</td>\n",
       "      <td>0</td>\n",
       "      <td>True</td>\n",
       "      <td>2</td>\n",
       "      <td>...</td>\n",
       "      <td>False</td>\n",
       "      <td>2.22</td>\n",
       "      <td>False</td>\n",
       "      <td>3</td>\n",
       "      <td>0</td>\n",
       "      <td>13</td>\n",
       "      <td>25</td>\n",
       "      <td>1</td>\n",
       "      <td>0</td>\n",
       "      <td>2012</td>\n",
       "    </tr>\n",
       "    <tr>\n",
       "      <th>4</th>\n",
       "      <td>5</td>\n",
       "      <td>38</td>\n",
       "      <td>1</td>\n",
       "      <td>1</td>\n",
       "      <td>11</td>\n",
       "      <td>57</td>\n",
       "      <td>False</td>\n",
       "      <td>1</td>\n",
       "      <td>False</td>\n",
       "      <td>0</td>\n",
       "      <td>...</td>\n",
       "      <td>False</td>\n",
       "      <td>8.26</td>\n",
       "      <td>False</td>\n",
       "      <td>2</td>\n",
       "      <td>1</td>\n",
       "      <td>3</td>\n",
       "      <td>4</td>\n",
       "      <td>0</td>\n",
       "      <td>1</td>\n",
       "      <td>2014</td>\n",
       "    </tr>\n",
       "    <tr>\n",
       "      <th>5</th>\n",
       "      <td>6</td>\n",
       "      <td>41</td>\n",
       "      <td>0</td>\n",
       "      <td>0</td>\n",
       "      <td>9</td>\n",
       "      <td>67</td>\n",
       "      <td>False</td>\n",
       "      <td>3</td>\n",
       "      <td>False</td>\n",
       "      <td>2</td>\n",
       "      <td>...</td>\n",
       "      <td>False</td>\n",
       "      <td>5.72</td>\n",
       "      <td>False</td>\n",
       "      <td>3</td>\n",
       "      <td>0</td>\n",
       "      <td>1</td>\n",
       "      <td>39</td>\n",
       "      <td>2</td>\n",
       "      <td>2</td>\n",
       "      <td>2020</td>\n",
       "    </tr>\n",
       "    <tr>\n",
       "      <th>6</th>\n",
       "      <td>7</td>\n",
       "      <td>20</td>\n",
       "      <td>0</td>\n",
       "      <td>0</td>\n",
       "      <td>29</td>\n",
       "      <td>9</td>\n",
       "      <td>False</td>\n",
       "      <td>2</td>\n",
       "      <td>False</td>\n",
       "      <td>0</td>\n",
       "      <td>...</td>\n",
       "      <td>False</td>\n",
       "      <td>1.05</td>\n",
       "      <td>False</td>\n",
       "      <td>1</td>\n",
       "      <td>0</td>\n",
       "      <td>18</td>\n",
       "      <td>34</td>\n",
       "      <td>0</td>\n",
       "      <td>1</td>\n",
       "      <td>2002</td>\n",
       "    </tr>\n",
       "    <tr>\n",
       "      <th>7</th>\n",
       "      <td>8</td>\n",
       "      <td>39</td>\n",
       "      <td>0</td>\n",
       "      <td>2</td>\n",
       "      <td>49</td>\n",
       "      <td>61</td>\n",
       "      <td>True</td>\n",
       "      <td>0</td>\n",
       "      <td>True</td>\n",
       "      <td>1</td>\n",
       "      <td>...</td>\n",
       "      <td>False</td>\n",
       "      <td>14.50</td>\n",
       "      <td>False</td>\n",
       "      <td>0</td>\n",
       "      <td>2</td>\n",
       "      <td>11</td>\n",
       "      <td>26</td>\n",
       "      <td>1</td>\n",
       "      <td>2</td>\n",
       "      <td>2015</td>\n",
       "    </tr>\n",
       "    <tr>\n",
       "      <th>8</th>\n",
       "      <td>9</td>\n",
       "      <td>70</td>\n",
       "      <td>0</td>\n",
       "      <td>2</td>\n",
       "      <td>2</td>\n",
       "      <td>49</td>\n",
       "      <td>False</td>\n",
       "      <td>2</td>\n",
       "      <td>True</td>\n",
       "      <td>1</td>\n",
       "      <td>...</td>\n",
       "      <td>True</td>\n",
       "      <td>5.03</td>\n",
       "      <td>True</td>\n",
       "      <td>1</td>\n",
       "      <td>2</td>\n",
       "      <td>3</td>\n",
       "      <td>22</td>\n",
       "      <td>0</td>\n",
       "      <td>2</td>\n",
       "      <td>2016</td>\n",
       "    </tr>\n",
       "    <tr>\n",
       "      <th>9</th>\n",
       "      <td>10</td>\n",
       "      <td>19</td>\n",
       "      <td>0</td>\n",
       "      <td>1</td>\n",
       "      <td>31</td>\n",
       "      <td>73</td>\n",
       "      <td>False</td>\n",
       "      <td>1</td>\n",
       "      <td>True</td>\n",
       "      <td>0</td>\n",
       "      <td>...</td>\n",
       "      <td>False</td>\n",
       "      <td>0.72</td>\n",
       "      <td>False</td>\n",
       "      <td>0</td>\n",
       "      <td>0</td>\n",
       "      <td>18</td>\n",
       "      <td>19</td>\n",
       "      <td>1</td>\n",
       "      <td>1</td>\n",
       "      <td>2022</td>\n",
       "    </tr>\n",
       "  </tbody>\n",
       "</table>\n",
       "<p>10 rows × 30 columns</p>\n",
       "</div>"
      ],
      "text/plain": [
       "   Patient_ID  Age  Gender  Smoking_History  Years_Smoked  Pack_Years  \\\n",
       "0           1   69       1                2            30           3   \n",
       "1           2   32       0                1             6          61   \n",
       "2           3   89       1                2             2           9   \n",
       "3           4   78       0                2            11          69   \n",
       "4           5   38       1                1            11          57   \n",
       "5           6   41       0                0             9          67   \n",
       "6           7   20       0                0            29           9   \n",
       "7           8   39       0                2            49          61   \n",
       "8           9   70       0                2             2          49   \n",
       "9          10   19       0                1            31          73   \n",
       "\n",
       "   Family_History_Cancer  Occupation  Exposure_to_Toxins  Residential_Area  \\\n",
       "0                  False           1               False                 2   \n",
       "1                  False           2               False                 2   \n",
       "2                   True           2                True                 0   \n",
       "3                  False           0                True                 2   \n",
       "4                  False           1               False                 0   \n",
       "5                  False           3               False                 2   \n",
       "6                  False           2               False                 0   \n",
       "7                   True           0                True                 1   \n",
       "8                  False           2                True                 1   \n",
       "9                  False           1                True                 0   \n",
       "\n",
       "   ...  Previous_Cancer_Diagnosis  Tumor_Size_cm  Metastasis_Status  \\\n",
       "0  ...                       True          11.02               True   \n",
       "1  ...                      False          14.29               True   \n",
       "2  ...                      False           9.47              False   \n",
       "3  ...                      False           2.22              False   \n",
       "4  ...                      False           8.26              False   \n",
       "5  ...                      False           5.72              False   \n",
       "6  ...                      False           1.05              False   \n",
       "7  ...                      False          14.50              False   \n",
       "8  ...                       True           5.03               True   \n",
       "9  ...                      False           0.72              False   \n",
       "\n",
       "   Stage_of_Cancer  Treatment_Type  Survival_Years  Follow_Up_Visits  \\\n",
       "0                2               3              12                24   \n",
       "1                1               0               6                12   \n",
       "2                2               0               6                15   \n",
       "3                3               0              13                25   \n",
       "4                2               1               3                 4   \n",
       "5                3               0               1                39   \n",
       "6                1               0              18                34   \n",
       "7                0               2              11                26   \n",
       "8                1               2               3                22   \n",
       "9                0               0              18                19   \n",
       "\n",
       "   Medication_Response  Symptom_Progression  Year_of_Diagnosis  \n",
       "0                    0                    1               2007  \n",
       "1                    2                    1               2009  \n",
       "2                    0                    2               2015  \n",
       "3                    1                    0               2012  \n",
       "4                    0                    1               2014  \n",
       "5                    2                    2               2020  \n",
       "6                    0                    1               2002  \n",
       "7                    1                    2               2015  \n",
       "8                    0                    2               2016  \n",
       "9                    1                    1               2022  \n",
       "\n",
       "[10 rows x 30 columns]"
      ]
     },
     "execution_count": 48,
     "metadata": {},
     "output_type": "execute_result"
    }
   ],
   "source": [
    "df.head(10)"
   ]
  },
  {
   "cell_type": "code",
   "execution_count": 55,
   "id": "f938c694-0565-4698-8e03-98ebc9d63a65",
   "metadata": {},
   "outputs": [],
   "source": [
    "scaler = StandardScaler()\n",
    "numeric_cols = df.select_dtypes(include=['int64', 'float64']).columns\n",
    "df[numeric_cols] = scaler.fit_transform(df[numeric_cols])"
   ]
  },
  {
   "cell_type": "code",
   "execution_count": 57,
   "id": "725fac28-12ad-4e64-a206-de9f7044ad78",
   "metadata": {},
   "outputs": [
    {
     "ename": "NameError",
     "evalue": "name 'target' is not defined",
     "output_type": "error",
     "traceback": [
      "\u001b[1;31m---------------------------------------------------------------------------\u001b[0m",
      "\u001b[1;31mNameError\u001b[0m                                 Traceback (most recent call last)",
      "Cell \u001b[1;32mIn[57], line 1\u001b[0m\n\u001b[1;32m----> 1\u001b[0m X \u001b[38;5;241m=\u001b[39m df\u001b[38;5;241m.\u001b[39mdrop(columns\u001b[38;5;241m=\u001b[39m[target] \u001b[38;5;241m+\u001b[39m drop_columns)\n\u001b[0;32m      2\u001b[0m y \u001b[38;5;241m=\u001b[39m df[target]\n",
      "\u001b[1;31mNameError\u001b[0m: name 'target' is not defined"
     ]
    }
   ],
   "source": [
    "X = df.drop(columns=[target] + drop_columns)\n",
    "y = df[target]"
   ]
  },
  {
   "cell_type": "code",
   "execution_count": 61,
   "id": "b6a2b611-5a6d-48c9-8252-6a6db552a834",
   "metadata": {},
   "outputs": [
    {
     "ename": "NameError",
     "evalue": "name 'X' is not defined",
     "output_type": "error",
     "traceback": [
      "\u001b[1;31m---------------------------------------------------------------------------\u001b[0m",
      "\u001b[1;31mNameError\u001b[0m                                 Traceback (most recent call last)",
      "Cell \u001b[1;32mIn[61], line 2\u001b[0m\n\u001b[0;32m      1\u001b[0m smote \u001b[38;5;241m=\u001b[39m SMOTE(random_state\u001b[38;5;241m=\u001b[39m\u001b[38;5;241m42\u001b[39m)\n\u001b[1;32m----> 2\u001b[0m X_resampled, y_resampled \u001b[38;5;241m=\u001b[39m smote\u001b[38;5;241m.\u001b[39mfit_resample(X, y)\n",
      "\u001b[1;31mNameError\u001b[0m: name 'X' is not defined"
     ]
    }
   ],
   "source": [
    "smote = SMOTE(random_state=42)\n",
    "X_resampled, y_resampled = smote.fit_resample(X, y)\n"
   ]
  },
  {
   "cell_type": "code",
   "execution_count": 63,
   "id": "f09f36f9-5b5f-45a3-a8ca-7ab1f9e31b65",
   "metadata": {},
   "outputs": [
    {
     "ename": "NameError",
     "evalue": "name 'X_resampled' is not defined",
     "output_type": "error",
     "traceback": [
      "\u001b[1;31m---------------------------------------------------------------------------\u001b[0m",
      "\u001b[1;31mNameError\u001b[0m                                 Traceback (most recent call last)",
      "Cell \u001b[1;32mIn[63], line 1\u001b[0m\n\u001b[1;32m----> 1\u001b[0m X_train, X_test, y_train, y_test \u001b[38;5;241m=\u001b[39m train_test_split(X_resampled, y_resampled, test_size\u001b[38;5;241m=\u001b[39m\u001b[38;5;241m0.2\u001b[39m, random_state\u001b[38;5;241m=\u001b[39m\u001b[38;5;241m42\u001b[39m)\n",
      "\u001b[1;31mNameError\u001b[0m: name 'X_resampled' is not defined"
     ]
    }
   ],
   "source": [
    "X_train, X_test, y_train, y_test = train_test_split(X_resampled, y_resampled, test_size=0.2, random_state=42)\n"
   ]
  },
  {
   "cell_type": "code",
   "execution_count": 79,
   "id": "bd64a995-361a-4d2b-81c8-a0e53585d16c",
   "metadata": {},
   "outputs": [
    {
     "ename": "NameError",
     "evalue": "name 'X_train' is not defined",
     "output_type": "error",
     "traceback": [
      "\u001b[1;31m---------------------------------------------------------------------------\u001b[0m",
      "\u001b[1;31mNameError\u001b[0m                                 Traceback (most recent call last)",
      "Cell \u001b[1;32mIn[79], line 3\u001b[0m\n\u001b[0;32m      1\u001b[0m \u001b[38;5;66;03m# Standardize features\u001b[39;00m\n\u001b[0;32m      2\u001b[0m scaler \u001b[38;5;241m=\u001b[39m StandardScaler()\n\u001b[1;32m----> 3\u001b[0m X_train \u001b[38;5;241m=\u001b[39m scaler\u001b[38;5;241m.\u001b[39mfit_transform(X_train)\n\u001b[0;32m      4\u001b[0m X_test \u001b[38;5;241m=\u001b[39m scaler\u001b[38;5;241m.\u001b[39mtransform(X_test)\n",
      "\u001b[1;31mNameError\u001b[0m: name 'X_train' is not defined"
     ]
    }
   ],
   "source": [
    "# Standardize features\n",
    "scaler = StandardScaler()\n",
    "X_train = scaler.fit_transform(X_train)\n",
    "X_test = scaler.transform(X_test)\n"
   ]
  },
  {
   "cell_type": "code",
   "execution_count": 103,
   "id": "8e7ebe26-3787-453e-adb1-944e3fd7b180",
   "metadata": {},
   "outputs": [
    {
     "ename": "NameError",
     "evalue": "name 'X_train' is not defined",
     "output_type": "error",
     "traceback": [
      "\u001b[1;31m---------------------------------------------------------------------------\u001b[0m",
      "\u001b[1;31mNameError\u001b[0m                                 Traceback (most recent call last)",
      "Cell \u001b[1;32mIn[103], line 2\u001b[0m\n\u001b[0;32m      1\u001b[0m rf_model \u001b[38;5;241m=\u001b[39m RandomForestClassifier(class_weight\u001b[38;5;241m=\u001b[39m\u001b[38;5;124m'\u001b[39m\u001b[38;5;124mbalanced\u001b[39m\u001b[38;5;124m'\u001b[39m, random_state\u001b[38;5;241m=\u001b[39m\u001b[38;5;241m42\u001b[39m)\n\u001b[1;32m----> 2\u001b[0m rf_model\u001b[38;5;241m.\u001b[39mfit(X_train, y_train)\n\u001b[0;32m      3\u001b[0m rf_preds \u001b[38;5;241m=\u001b[39m rf_model\u001b[38;5;241m.\u001b[39mpredict(X_test)\n\u001b[0;32m      4\u001b[0m \u001b[38;5;28mprint\u001b[39m(\u001b[38;5;124m\"\u001b[39m\u001b[38;5;124mRandom Forest Performance:\u001b[39m\u001b[38;5;130;01m\\n\u001b[39;00m\u001b[38;5;124m\"\u001b[39m, classification_report(y_test, rf_preds))\n",
      "\u001b[1;31mNameError\u001b[0m: name 'X_train' is not defined"
     ]
    }
   ],
   "source": [
    "rf_model = RandomForestClassifier(class_weight='balanced', random_state=42)\n",
    "rf_model.fit(X_train, y_train)\n",
    "rf_preds = rf_model.predict(X_test)\n",
    "print(\"Random Forest Performance:\\n\", classification_report(y_test, rf_preds))\n"
   ]
  },
  {
   "cell_type": "code",
   "execution_count": 101,
   "id": "fc575f88-cb60-40ca-96b9-77731f038e53",
   "metadata": {},
   "outputs": [
    {
     "ename": "NameError",
     "evalue": "name 'rf_model' is not defined",
     "output_type": "error",
     "traceback": [
      "\u001b[1;31m---------------------------------------------------------------------------\u001b[0m",
      "\u001b[1;31mNameError\u001b[0m                                 Traceback (most recent call last)",
      "Cell \u001b[1;32mIn[101], line 1\u001b[0m\n\u001b[1;32m----> 1\u001b[0m rf_preds \u001b[38;5;241m=\u001b[39m rf_model\u001b[38;5;241m.\u001b[39mpredict(X_test)\n",
      "\u001b[1;31mNameError\u001b[0m: name 'rf_model' is not defined"
     ]
    }
   ],
   "source": [
    "rf_preds = rf_model.predict(X_test)"
   ]
  },
  {
   "cell_type": "code",
   "execution_count": 97,
   "id": "4327a72c-4f21-48d5-aa66-5a432f94084d",
   "metadata": {},
   "outputs": [
    {
     "ename": "NameError",
     "evalue": "name 'confusion_matrix' is not defined",
     "output_type": "error",
     "traceback": [
      "\u001b[1;31m---------------------------------------------------------------------------\u001b[0m",
      "\u001b[1;31mNameError\u001b[0m                                 Traceback (most recent call last)",
      "Cell \u001b[1;32mIn[97], line 1\u001b[0m\n\u001b[1;32m----> 1\u001b[0m cm \u001b[38;5;241m=\u001b[39m confusion_matrix(y_test, rf_preds)\n",
      "\u001b[1;31mNameError\u001b[0m: name 'confusion_matrix' is not defined"
     ]
    }
   ],
   "source": [
    "cm = confusion_matrix(y_test, rf_preds)"
   ]
  },
  {
   "cell_type": "code",
   "execution_count": 99,
   "id": "959124bd-14af-4b32-a600-a249ab6203d9",
   "metadata": {},
   "outputs": [],
   "source": [
    "def confusion_matrix(y_test, y_pred, model_name=\"Model\"):\n",
    "    cm = confusion_matrix(y_test, y_pred)\n",
    "    disp = ConfusionMatrixDisplay(cm)\n",
    "    disp.plot(cmap='Blues', values_format='d')\n",
    "    plt.title(f\"Confusion Matrix - {model_name}\")\n",
    "    plt.show()"
   ]
  },
  {
   "cell_type": "code",
   "execution_count": 81,
   "id": "af2b00c7-c6f6-406d-9e6f-453db128a389",
   "metadata": {},
   "outputs": [
    {
     "ename": "NameError",
     "evalue": "name 'XGBClassifier' is not defined",
     "output_type": "error",
     "traceback": [
      "\u001b[1;31m---------------------------------------------------------------------------\u001b[0m",
      "\u001b[1;31mNameError\u001b[0m                                 Traceback (most recent call last)",
      "Cell \u001b[1;32mIn[81], line 4\u001b[0m\n\u001b[0;32m      1\u001b[0m \u001b[38;5;66;03m# Train models\u001b[39;00m\n\u001b[0;32m      2\u001b[0m models \u001b[38;5;241m=\u001b[39m {\n\u001b[0;32m      3\u001b[0m     \u001b[38;5;124m\"\u001b[39m\u001b[38;5;124mRandom Forest\u001b[39m\u001b[38;5;124m\"\u001b[39m: RandomForestClassifier(n_estimators\u001b[38;5;241m=\u001b[39m\u001b[38;5;241m100\u001b[39m, random_state\u001b[38;5;241m=\u001b[39m\u001b[38;5;241m42\u001b[39m),\n\u001b[1;32m----> 4\u001b[0m     \u001b[38;5;124m\"\u001b[39m\u001b[38;5;124mXGBoost\u001b[39m\u001b[38;5;124m\"\u001b[39m: XGBClassifier(use_label_encoder\u001b[38;5;241m=\u001b[39m\u001b[38;5;28;01mFalse\u001b[39;00m, eval_metric\u001b[38;5;241m=\u001b[39m\u001b[38;5;124m'\u001b[39m\u001b[38;5;124mlogloss\u001b[39m\u001b[38;5;124m'\u001b[39m, random_state\u001b[38;5;241m=\u001b[39m\u001b[38;5;241m42\u001b[39m),\n\u001b[0;32m      5\u001b[0m     \u001b[38;5;124m\"\u001b[39m\u001b[38;5;124mLogistic Regression\u001b[39m\u001b[38;5;124m\"\u001b[39m: LogisticRegression(max_iter\u001b[38;5;241m=\u001b[39m\u001b[38;5;241m1000\u001b[39m)\n\u001b[0;32m      6\u001b[0m }\n",
      "\u001b[1;31mNameError\u001b[0m: name 'XGBClassifier' is not defined"
     ]
    }
   ],
   "source": [
    "# Train models\n",
    "models = {\n",
    "    \"Random Forest\": RandomForestClassifier(n_estimators=100, random_state=42),\n",
    "    \"XGBoost\": XGBClassifier(use_label_encoder=False, eval_metric='logloss', random_state=42),\n",
    "    \"Logistic Regression\": LogisticRegression(max_iter=1000)\n",
    "}\n"
   ]
  },
  {
   "cell_type": "code",
   "execution_count": 83,
   "id": "423a254a-aaaf-4da5-aea8-703c08e99efe",
   "metadata": {},
   "outputs": [
    {
     "ename": "NameError",
     "evalue": "name 'models' is not defined",
     "output_type": "error",
     "traceback": [
      "\u001b[1;31m---------------------------------------------------------------------------\u001b[0m",
      "\u001b[1;31mNameError\u001b[0m                                 Traceback (most recent call last)",
      "Cell \u001b[1;32mIn[83], line 2\u001b[0m\n\u001b[0;32m      1\u001b[0m \u001b[38;5;66;03m# Evaluate models\u001b[39;00m\n\u001b[1;32m----> 2\u001b[0m \u001b[38;5;28;01mfor\u001b[39;00m name, model \u001b[38;5;129;01min\u001b[39;00m models\u001b[38;5;241m.\u001b[39mitems():\n\u001b[0;32m      3\u001b[0m     model\u001b[38;5;241m.\u001b[39mfit(X_train, y_train)\n\u001b[0;32m      4\u001b[0m     y_pred \u001b[38;5;241m=\u001b[39m model\u001b[38;5;241m.\u001b[39mpredict(X_test)\n",
      "\u001b[1;31mNameError\u001b[0m: name 'models' is not defined"
     ]
    }
   ],
   "source": [
    "# Evaluate models\n",
    "for name, model in models.items():\n",
    "    model.fit(X_train, y_train)\n",
    "    y_pred = model.predict(X_test)\n",
    "    print(f\"\\n{name} Model Evaluation:\")\n",
    "    print(\"Accuracy:\", accuracy_score(y_test, y_pred))\n",
    "    print(\"Classification Report:\\n\", classification_report(y_test, y_pred))\n",
    "    cm = confusion_matrix(y_test, y_pred)\n",
    "    ConfusionMatrixDisplay(cm).plot()\n",
    "    plt.show()"
   ]
  },
  {
   "cell_type": "code",
   "execution_count": 85,
   "id": "610d1ca3-8efa-4c3c-b869-34e51f6ac01f",
   "metadata": {},
   "outputs": [
    {
     "ename": "NameError",
     "evalue": "name 'shap' is not defined",
     "output_type": "error",
     "traceback": [
      "\u001b[1;31m---------------------------------------------------------------------------\u001b[0m",
      "\u001b[1;31mNameError\u001b[0m                                 Traceback (most recent call last)",
      "Cell \u001b[1;32mIn[85], line 2\u001b[0m\n\u001b[0;32m      1\u001b[0m \u001b[38;5;66;03m# Explain model predictions using SHAP\u001b[39;00m\n\u001b[1;32m----> 2\u001b[0m explainer \u001b[38;5;241m=\u001b[39m shap\u001b[38;5;241m.\u001b[39mExplainer(models[\u001b[38;5;124m\"\u001b[39m\u001b[38;5;124mRandom Forest\u001b[39m\u001b[38;5;124m\"\u001b[39m], X_train)\n\u001b[0;32m      3\u001b[0m shap_values \u001b[38;5;241m=\u001b[39m explainer(X_test[:\u001b[38;5;241m100\u001b[39m])\n\u001b[0;32m      4\u001b[0m shap\u001b[38;5;241m.\u001b[39msummary_plot(shap_values, X_test[:\u001b[38;5;241m100\u001b[39m])\n",
      "\u001b[1;31mNameError\u001b[0m: name 'shap' is not defined"
     ]
    }
   ],
   "source": [
    "# Explain model predictions using SHAP\n",
    "explainer = shap.Explainer(models[\"Random Forest\"], X_train)\n",
    "shap_values = explainer(X_test[:100])\n",
    "shap.summary_plot(shap_values, X_test[:100])\n"
   ]
  },
  {
   "cell_type": "code",
   "execution_count": 87,
   "id": "a546a3d2-1fdb-4e7c-afae-bf8017325227",
   "metadata": {},
   "outputs": [],
   "source": []
  },
  {
   "cell_type": "code",
   "execution_count": null,
   "id": "a4181c7e-1c49-40c6-ab89-c1b44b6ac760",
   "metadata": {},
   "outputs": [],
   "source": []
  },
  {
   "cell_type": "code",
   "execution_count": null,
   "id": "f5ef3299-fe2d-46a8-9d03-29cec9195d23",
   "metadata": {},
   "outputs": [],
   "source": []
  },
  {
   "cell_type": "code",
   "execution_count": null,
   "id": "21f939f1-370e-43b1-aa5b-f7dbe683a441",
   "metadata": {},
   "outputs": [],
   "source": []
  },
  {
   "cell_type": "code",
   "execution_count": null,
   "id": "f0d90181-beba-4772-a337-232282880a25",
   "metadata": {},
   "outputs": [],
   "source": []
  },
  {
   "cell_type": "code",
   "execution_count": null,
   "id": "74fa5fa5-5287-4503-948f-1e200a252340",
   "metadata": {},
   "outputs": [],
   "source": []
  },
  {
   "cell_type": "code",
   "execution_count": null,
   "id": "67468db4-3826-4b40-8648-e7c89bad8ac5",
   "metadata": {},
   "outputs": [],
   "source": []
  },
  {
   "cell_type": "code",
   "execution_count": null,
   "id": "0db01594-cacd-49c3-94a8-5c3746f7a8f6",
   "metadata": {},
   "outputs": [],
   "source": []
  },
  {
   "cell_type": "code",
   "execution_count": null,
   "id": "a3db2dfc-21bc-4e1e-9c61-a4aae91a555c",
   "metadata": {},
   "outputs": [],
   "source": []
  },
  {
   "cell_type": "code",
   "execution_count": null,
   "id": "644be36b-67d5-4a87-abb8-828bf102e7e9",
   "metadata": {},
   "outputs": [],
   "source": []
  },
  {
   "cell_type": "code",
   "execution_count": null,
   "id": "ea5223db-d769-4fa7-8229-2406633cb681",
   "metadata": {},
   "outputs": [],
   "source": []
  }
 ],
 "metadata": {
  "kernelspec": {
   "display_name": "Python [conda env:anaconda3]",
   "language": "python",
   "name": "conda-env-anaconda3-py"
  },
  "language_info": {
   "codemirror_mode": {
    "name": "ipython",
    "version": 3
   },
   "file_extension": ".py",
   "mimetype": "text/x-python",
   "name": "python",
   "nbconvert_exporter": "python",
   "pygments_lexer": "ipython3",
   "version": "3.12.7"
  }
 },
 "nbformat": 4,
 "nbformat_minor": 5
}
