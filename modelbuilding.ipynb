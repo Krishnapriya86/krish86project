{
 "cells": [
  {
   "cell_type": "code",
   "execution_count": null,
   "id": "2175465d-cd53-4567-8345-433340f94b1d",
   "metadata": {},
   "outputs": [],
   "source": [
    "import pandas as pd\n",
    "import numpy as np\n",
    "from sklearn.preprocessing import LabelEncoder\n",
    "import seaborn as sns"
   ]
  },
  {
   "cell_type": "code",
   "execution_count": null,
   "id": "484c2c82-c837-46ea-b55f-9127908baf01",
   "metadata": {},
   "outputs": [],
   "source": [
    "!pip install shap"
   ]
  },
  {
   "cell_type": "code",
   "execution_count": null,
   "id": "fa882bcb-0a51-4b88-97ed-b20ae1e00e24",
   "metadata": {},
   "outputs": [],
   "source": [
    "pip install xgboost"
   ]
  },
  {
   "cell_type": "code",
   "execution_count": null,
   "id": "67e9f55f-746f-4745-a28e-7e74133a5be0",
   "metadata": {},
   "outputs": [],
   "source": [
    "import matplotlib.pyplot as plt\n",
    "from imblearn.over_sampling import SMOTE\n",
    "from sklearn.model_selection import train_test_split\n",
    "from sklearn.preprocessing import LabelEncoder\n",
    "from sklearn.ensemble import RandomForestClassifier\n",
    "from xgboost import XGBClassifier\n",
    "from sklearn.linear_model import LogisticRegression\n",
    "from sklearn.compose import ColumnTransformer\n",
    "from sklearn.pipeline import Pipeline\n",
    "from sklearn.model_selection import GridSearchCV\n",
    "from sklearn.metrics import accuracy_score, classification_report, confusion_matrix, ConfusionMatrixDisplay\n",
    "from sklearn.tree import DecisionTreeClassifier\n",
    "from sklearn.preprocessing import OneHotEncoder\n",
    "from sklearn.preprocessing import StandardScaler\n",
    "from sklearn.neighbors import KNeighborsClassifier\n",
    "import shap\n",
    "import matplotlib.pyplot as plt\n",
    "import seaborn as sns"
   ]
  },
  {
   "cell_type": "code",
   "execution_count": null,
   "id": "4fbdfa1d-4f96-451a-be6c-24e1d51f26fa",
   "metadata": {},
   "outputs": [],
   "source": [
    "from sklearn.inspection import permutation_importance\n",
    "from sklearn.utils.validation import check_is_fitted"
   ]
  },
  {
   "cell_type": "code",
   "execution_count": null,
   "id": "c6fcd212-9b1e-4143-b320-4d918bfb5603",
   "metadata": {},
   "outputs": [],
   "source": [
    "df = pd.read_csv(\"C:\\\\Users\\\\jithi\\\\Desktop\\\\lung_cancer_data.csv\")"
   ]
  },
  {
   "cell_type": "code",
   "execution_count": null,
   "id": "3713fadc-a8b5-4d8d-81e1-919cd72d0442",
   "metadata": {},
   "outputs": [],
   "source": [
    "df.head()"
   ]
  },
  {
   "cell_type": "code",
   "execution_count": null,
   "id": "b37afb31-f59f-474d-bfee-56cb2245767c",
   "metadata": {},
   "outputs": [],
   "source": [
    "df.columns"
   ]
  },
  {
   "cell_type": "code",
   "execution_count": null,
   "id": "e7e75694-84e0-498f-853b-8e78d605f0e7",
   "metadata": {},
   "outputs": [],
   "source": [
    "df.shape"
   ]
  },
  {
   "cell_type": "code",
   "execution_count": null,
   "id": "ed5170d0-b738-4823-8ade-f6d2ef8c3657",
   "metadata": {},
   "outputs": [],
   "source": [
    "unwanted_columns = ['Patient_ID', 'Occupation', 'Residential_Area']"
   ]
  },
  {
   "cell_type": "code",
   "execution_count": null,
   "id": "246b9483-ed92-4b6b-abee-14262e12c87f",
   "metadata": {},
   "outputs": [],
   "source": [
    "df.info()"
   ]
  },
  {
   "cell_type": "code",
   "execution_count": null,
   "id": "1b97ab8b-bdaa-47c7-988a-3ede710d49fe",
   "metadata": {},
   "outputs": [],
   "source": [
    "df.isnull().sum()"
   ]
  },
  {
   "cell_type": "code",
   "execution_count": null,
   "id": "391ab4d1-abc1-4b52-8c54-dd2025741258",
   "metadata": {},
   "outputs": [],
   "source": [
    "categorical_cols = ['Gender', 'Smoking_History', 'Occupation', 'Residential_Area',\n",
    "                    'Physical_Activity_Level', 'Dietary_Habits', 'Comorbidities',\n",
    "                    'Stage_of_Cancer', 'Treatment_Type', 'Medication_Response', 'Symptom_Progression']"
   ]
  },
  {
   "cell_type": "code",
   "execution_count": null,
   "id": "89d79469-cdef-46bf-add5-353e3447f86c",
   "metadata": {},
   "outputs": [],
   "source": [
    "label_encoders = {}\n",
    "categorical_columns = df.select_dtypes(include=['object']).columns\n",
    "for col in categorical_columns:\n",
    "    le = LabelEncoder()\n",
    "    df[col] = le.fit_transform(df[col])\n",
    "    label_encoders[col] = le"
   ]
  },
  {
   "cell_type": "code",
   "execution_count": null,
   "id": "793fcbb6-9cb4-4001-b9b1-926c8009fc11",
   "metadata": {},
   "outputs": [],
   "source": [
    "df.head(10)"
   ]
  },
  {
   "cell_type": "code",
   "execution_count": null,
   "id": "0c93ae2d-2369-4231-ba8b-66a0cc09f53b",
   "metadata": {},
   "outputs": [],
   "source": []
  },
  {
   "cell_type": "code",
   "execution_count": null,
   "id": "da23ab88-45c6-4523-b9eb-a143d5727fa1",
   "metadata": {},
   "outputs": [],
   "source": [
    "# Set Seaborn style for better aesthetics\n",
    "sns.set(style=\"whitegrid\")"
   ]
  },
  {
   "cell_type": "code",
   "execution_count": null,
   "id": "5ab9c856-770d-438e-bbff-d403978d7cb5",
   "metadata": {},
   "outputs": [],
   "source": [
    "label_encoders = {}\n",
    "categorical_columns = df.select_dtypes(include=['object']).columns\n",
    "for col in categorical_columns:\n",
    "    le = LabelEncoder()\n",
    "    df[col] = le.fit_transform(df[col])\n",
    "    label_encoders[col] = le"
   ]
  },
  {
   "cell_type": "code",
   "execution_count": null,
   "id": "1271d222-b83e-47b1-80ad-bbf3bd553925",
   "metadata": {},
   "outputs": [],
   "source": []
  },
  {
   "cell_type": "code",
   "execution_count": null,
   "id": "055356c6-5e9c-4e55-bddf-14badc1f2734",
   "metadata": {},
   "outputs": [],
   "source": [
    "# 2. Gender Proportion - Pie Chart\n",
    "gender_counts = df['Gender'].value_counts()\n",
    "plt.figure(figsize=(6, 6))\n",
    "plt.pie(gender_counts, labels=gender_counts.index, autopct='%1.1f%%', startangle=140, colors=['#ff9999','#66b3ff'])\n",
    "plt.title(\"Gender Proportion\")\n",
    "plt.axis('equal')\n",
    "plt.show()\n"
   ]
  },
  {
   "cell_type": "code",
   "execution_count": null,
   "id": "dfc5ee0e-27bb-49d9-9dde-e03754424143",
   "metadata": {},
   "outputs": [],
   "source": [
    "# 3. Smoking History Impact - Bar Chart (Count per category)\n",
    "plt.figure(figsize=(10, 6))\n",
    "sns.countplot(data=df, x='Smoking_History', order=df['Smoking_History'].value_counts().index, palette=\"viridis\")\n",
    "plt.title(\"Smoking History Count\")\n",
    "plt.xlabel(\"Smoking History\")\n",
    "plt.ylabel(\"Count\")\n",
    "plt.show()"
   ]
  },
  {
   "cell_type": "code",
   "execution_count": null,
   "id": "e9113530-722a-4000-b13f-259dd0c1d20d",
   "metadata": {},
   "outputs": [],
   "source": [
    "# 4. Cancer Stage Distribution - Bar Chart\n",
    "plt.figure(figsize=(10, 6))\n",
    "sns.countplot(data=df, x='Stage_of_Cancer', order=df['Stage_of_Cancer'].value_counts().index, palette=\"magma\")\n",
    "plt.title(\"Cancer Stage Distribution\")\n",
    "plt.xlabel(\"Stage of Cancer\")\n",
    "plt.ylabel(\"Count\")\n",
    "plt.show()"
   ]
  },
  {
   "cell_type": "code",
   "execution_count": null,
   "id": "148f506a-99d1-437b-a62e-ca9fb37055d8",
   "metadata": {},
   "outputs": [],
   "source": [
    "# 5. Tumor Size vs. Survival Years - Scatter Plot\n",
    "plt.figure(figsize=(10, 6))\n",
    "sns.scatterplot(data=df, x='Tumor_Size_cm', y='Survival_Years', hue='Stage_of_Cancer', palette=\"deep\", alpha=0.6)\n",
    "plt.title(\"Tumor Size vs. Survival Years\")\n",
    "plt.xlabel(\"Tumor Size (cm)\")\n",
    "plt.ylabel(\"Survival Years\")\n",
    "plt.legend(title=\"Stage of Cancer\")\n",
    "plt.show()"
   ]
  },
  {
   "cell_type": "code",
   "execution_count": null,
   "id": "d06dba7f-da79-4240-8311-9adf7496746d",
   "metadata": {},
   "outputs": [],
   "source": [
    "# 6. Metastasis Status vs. Stage of Cancer - Stacked Bar Chart\n",
    "# Prepare data for stacked bar chart\n",
    "stack_data = df.groupby(['Stage_of_Cancer', 'Metastasis_Status']).size().unstack(fill_value=0)\n",
    "stack_data = stack_data.loc[stack_data.sum(axis=1).sort_values(ascending=False).index]"
   ]
  },
  {
   "cell_type": "code",
   "execution_count": null,
   "id": "d8ba38ba-8935-4f69-98cf-8da14538c940",
   "metadata": {},
   "outputs": [],
   "source": [
    "stack_data.plot(kind='bar', stacked=True, figsize=(10, 6), colormap='Set2')\n",
    "plt.title(\"Metastasis Status vs. Stage of Cancer\")\n",
    "plt.xlabel(\"Stage of Cancer\")\n",
    "plt.ylabel(\"Count\")\n",
    "plt.legend(title=\"Metastasis Status\", labels=[\"False\", \"True\"])\n",
    "plt.show()"
   ]
  },
  {
   "cell_type": "code",
   "execution_count": null,
   "id": "3508aac6-1079-4a8c-8177-1fe41d3af1cb",
   "metadata": {},
   "outputs": [],
   "source": []
  },
  {
   "cell_type": "code",
   "execution_count": null,
   "id": "7fe0bdb0-d5a5-4596-8eda-faaf5f8456f1",
   "metadata": {},
   "outputs": [],
   "source": [
    "# Display initial info about the dataset\n",
    "print(\"Initial Data Information:\")\n",
    "print(df.info())\n",
    "print(\"\\nMissing Values per Column:\")\n",
    "print(df.isnull().sum())"
   ]
  },
  {
   "cell_type": "code",
   "execution_count": null,
   "id": "61d98dfb-87c9-426f-8215-b78adf9fe82b",
   "metadata": {},
   "outputs": [],
   "source": [
    " #Data Type Conversions\n",
    "# Ensure boolean columns are of bool type\n",
    "bool_columns = ['Family_History_Cancer', 'Exposure_to_Toxins', 'Chest_Pain_Symptoms',\n",
    "                'Shortness_of_Breath', 'Chronic_Cough', 'Weight_Loss',\n",
    "                'Previous_Cancer_Diagnosis', 'Metastasis_Status']"
   ]
  },
  {
   "cell_type": "code",
   "execution_count": null,
   "id": "dc0d1d4d-6555-4969-9086-59fbda0a5499",
   "metadata": {},
   "outputs": [],
   "source": [
    "for col in bool_columns:\n",
    "    df[col] = df[col].astype(bool)"
   ]
  },
  {
   "cell_type": "code",
   "execution_count": null,
   "id": "ed849b97-9999-4293-8a9a-252bbcedaee2",
   "metadata": {},
   "outputs": [],
   "source": [
    "#Handling Outliers (Example: Tumor_Size_cm)\n",
    "# You can apply various methods to handle outliers. Here's a simple example using the IQR method:\n",
    "Q1 = df['Tumor_Size_cm'].quantile(0.25)\n",
    "Q3 = df['Tumor_Size_cm'].quantile(0.75)\n",
    "IQR = Q3 - Q1"
   ]
  },
  {
   "cell_type": "code",
   "execution_count": null,
   "id": "ea54ffad-0e31-4693-96c4-6f5c1d892926",
   "metadata": {},
   "outputs": [],
   "source": [
    "# Define a threshold for outliers\n",
    "lower_bound = Q1 - 1.5 * IQR\n",
    "upper_bound = Q3 + 1.5 * IQR"
   ]
  },
  {
   "cell_type": "code",
   "execution_count": null,
   "id": "afb84378-1651-4c25-99f7-41c7ea371986",
   "metadata": {},
   "outputs": [],
   "source": [
    "# Option: Cap outliers at the threshold\n",
    "df['Tumor_Size_cm'] = np.where(df['Tumor_Size_cm'] < lower_bound, lower_bound, df['Tumor_Size_cm'])\n",
    "df['Tumor_Size_cm'] = np.where(df['Tumor_Size_cm'] > upper_bound, upper_bound, df['Tumor_Size_cm'])\n"
   ]
  },
  {
   "cell_type": "code",
   "execution_count": null,
   "id": "f39fa161-e5e9-4199-8d6b-4d7961ca6dc4",
   "metadata": {},
   "outputs": [],
   "source": [
    "#Feature Engineering (Example: Calculate BMI category)\n",
    "def bmi_category(bmi):\n",
    "    if bmi < 18.5:\n",
    "        return 'Underweight'\n",
    "    elif bmi < 25:\n",
    "        return 'Normal'\n",
    "    elif bmi < 30:\n",
    "        return 'Overweight'\n",
    "    else:\n",
    "        return 'Obese'"
   ]
  },
  {
   "cell_type": "code",
   "execution_count": null,
   "id": "5ae6b9f3-90b9-461a-97cb-7a4bcde29069",
   "metadata": {},
   "outputs": [],
   "source": [
    "df['BMI_Category'] = df['BMI'].apply(bmi_category)\n",
    "df['BMI_Category'] = df['BMI_Category'].astype('category')"
   ]
  },
  {
   "cell_type": "code",
   "execution_count": null,
   "id": "218f3383-6536-40da-a25d-f9c478cf8a40",
   "metadata": {},
   "outputs": [],
   "source": [
    "#Encoding Categorical Variables (Optional: If needed for modeling)\n",
    "# For example, using one-hot encoding for 'Stage_of_Cancer'\n",
    "df_encoded = pd.get_dummies(df, columns=['Stage_of_Cancer'], drop_first=True)"
   ]
  },
  {
   "cell_type": "code",
   "execution_count": null,
   "id": "bc9dba6a-e467-4673-b769-dd951489b90c",
   "metadata": {},
   "outputs": [],
   "source": [
    "# Display cleaned data info\n",
    "print(\"\\nCleaned Data Information:\")\n",
    "print(df.info())\n",
    "print(\"\\nSample of Cleaned Data:\")\n",
    "print(df.head())"
   ]
  },
  {
   "cell_type": "code",
   "execution_count": null,
   "id": "ab8f3a67-378b-4e18-be18-0c760676b22c",
   "metadata": {},
   "outputs": [],
   "source": [
    "# Optionally, save the cleaned dataset to a new CSV file\n",
    "df.to_csv(\"lung_cancer_data_cleaned.csv\", index=False)\n"
   ]
  },
  {
   "cell_type": "code",
   "execution_count": null,
   "id": "4b9de78e-c92e-47cc-8b12-ee3fa26e82f8",
   "metadata": {},
   "outputs": [],
   "source": [
    "#encoding"
   ]
  },
  {
   "cell_type": "code",
   "execution_count": null,
   "id": "d059fc1c-fc62-4f5b-bd3c-17bf557cd66d",
   "metadata": {},
   "outputs": [],
   "source": [
    "# List of categorical columns to encode\n",
    "categorical_columns = [\n",
    "    'Gender', 'Smoking_History', 'Occupation', 'Residential_Area',\n",
    "    'Physical_Activity_Level', 'Dietary_Habits', 'Comorbidities',\n",
    "    'Stage_of_Cancer', 'Treatment_Type', 'Medication_Response', 'Symptom_Progression'\n",
    "]"
   ]
  },
  {
   "cell_type": "code",
   "execution_count": null,
   "id": "e3abce7c-3a77-4e9e-9fc3-0cbbfd8bfaea",
   "metadata": {},
   "outputs": [],
   "source": [
    "# --- Option 1: Label Encoding ---\n",
    "# This method is useful if the categorical variable is ordinal or if you prefer a single column representation.\n",
    "df_label_encoded = df.copy()  # make a copy for label encoding\n",
    "le = LabelEncoder()"
   ]
  },
  {
   "cell_type": "code",
   "execution_count": null,
   "id": "8327b68e-b362-4019-8e9c-6cf66b61072f",
   "metadata": {},
   "outputs": [],
   "source": [
    "df.head(10)"
   ]
  },
  {
   "cell_type": "code",
   "execution_count": null,
   "id": "9c9b561f-03a8-4a1f-a800-d7d191264643",
   "metadata": {},
   "outputs": [],
   "source": [
    "df.describe().transpose()"
   ]
  },
  {
   "cell_type": "code",
   "execution_count": null,
   "id": "63471ca3-65d2-4bdd-be4e-74fc89d6e097",
   "metadata": {},
   "outputs": [],
   "source": [
    "numeric_columns = df.select_dtypes(include=['int64', 'float64']).columns\n",
    "df_numeric = df[numeric_columns]\n"
   ]
  },
  {
   "cell_type": "code",
   "execution_count": null,
   "id": "458a8dd7-6553-4763-b053-894d6046696f",
   "metadata": {},
   "outputs": [],
   "source": [
    "corr_matrix = df_numeric.corr()\n"
   ]
  },
  {
   "cell_type": "code",
   "execution_count": null,
   "id": "b49c18b1-6285-4c86-b99a-cf61a2a9f2f7",
   "metadata": {},
   "outputs": [],
   "source": [
    "# Display the correlation matrix\n",
    "print(\"Correlation Matrix:\")\n",
    "print(corr_matrix)\n"
   ]
  },
  {
   "cell_type": "code",
   "execution_count": null,
   "id": "7ce502bb-1940-43c4-a1b2-ca5f117a4e79",
   "metadata": {},
   "outputs": [],
   "source": [
    "plt.figure(figsize=(12, 10))\n",
    "sns.heatmap(corr_matrix, annot=True, fmt=\".2f\", cmap=\"coolwarm\", square=True)\n",
    "plt.title(\"Correlation Matrix Heatmap\")\n",
    "plt.show()"
   ]
  },
  {
   "cell_type": "code",
   "execution_count": null,
   "id": "b5f6c6fa-a89e-4bcd-a27f-0c8ffb72cfab",
   "metadata": {},
   "outputs": [],
   "source": [
    "df.info()"
   ]
  },
  {
   "cell_type": "code",
   "execution_count": null,
   "id": "8f29a656-ad00-4be8-b3c8-38340fd9e400",
   "metadata": {},
   "outputs": [],
   "source": []
  },
  {
   "cell_type": "code",
   "execution_count": null,
   "id": "0edde62f-4445-4886-9d13-0bdc90282103",
   "metadata": {},
   "outputs": [],
   "source": [
    "#Prepare data for predictive modeling"
   ]
  },
  {
   "cell_type": "code",
   "execution_count": null,
   "id": "214293f1-455c-46b1-8e4a-58c3fbde6072",
   "metadata": {},
   "outputs": [],
   "source": [
    "bool_columns = [\n",
    "    'Family_History_Cancer', 'Exposure_to_Toxins', 'Chest_Pain_Symptoms',\n",
    "    'Shortness_of_Breath', 'Chronic_Cough', 'Weight_Loss',\n",
    "    'Previous_Cancer_Diagnosis', 'Metastasis_Status'\n",
    "]"
   ]
  },
  {
   "cell_type": "code",
   "execution_count": null,
   "id": "4699f024-b20b-41ba-8c2a-50ec0abc175a",
   "metadata": {},
   "outputs": [],
   "source": [
    "for col in bool_columns:\n",
    "    df[col] = df[col].astype(bool)"
   ]
  },
  {
   "cell_type": "code",
   "execution_count": null,
   "id": "67ec7b17-65fb-4b27-8128-34be3c621665",
   "metadata": {},
   "outputs": [],
   "source": [
    "# Remove non-predictive columns "
   ]
  },
  {
   "cell_type": "code",
   "execution_count": null,
   "id": "dc08770f-11b1-41e1-83ef-185f57924362",
   "metadata": {},
   "outputs": [],
   "source": [
    "df_model = df.drop(columns=['Patient_ID', 'Year_of_Diagnosis'])"
   ]
  },
  {
   "cell_type": "code",
   "execution_count": null,
   "id": "dcfc0e94-992c-4c97-90fb-cb1876dcfd6d",
   "metadata": {},
   "outputs": [],
   "source": [
    "# Specify the target variable (predicting Survival_Years)\n",
    "target = 'Survival_Years'\n",
    "X = df_model.drop(columns=[target])\n",
    "y = df_model[target]"
   ]
  },
  {
   "cell_type": "code",
   "execution_count": null,
   "id": "22eca686-7573-4a2b-a4d1-6c11796a4898",
   "metadata": {},
   "outputs": [],
   "source": [
    "X_train, X_test, y_train, y_test = train_test_split(X, y, test_size=0.3, random_state=42)"
   ]
  },
  {
   "cell_type": "code",
   "execution_count": null,
   "id": "6c2a8081-767c-4d73-88ed-184bf4341ac7",
   "metadata": {},
   "outputs": [],
   "source": [
    "X_test.shape"
   ]
  },
  {
   "cell_type": "code",
   "execution_count": null,
   "id": "d334ee59-6682-42e7-b37f-5165acdfb64a",
   "metadata": {},
   "outputs": [],
   "source": [
    "target = 'Metastasis_Status'\n",
    "# Drop columns that are not features (e.g., identifiers)\n"
   ]
  },
  {
   "cell_type": "code",
   "execution_count": null,
   "id": "81be019a-3985-404a-aeef-83e017fafd66",
   "metadata": {},
   "outputs": [],
   "source": [
    "X = df.drop(columns=['Patient_ID', 'Year_of_Diagnosis', target])\n",
    "y = df[target]"
   ]
  },
  {
   "cell_type": "code",
   "execution_count": null,
   "id": "b21bd860-4b61-43d7-8490-94b395592c86",
   "metadata": {},
   "outputs": [],
   "source": [
    "X_train, X_test, y_train, y_test = train_test_split(\n",
    "    X, y, test_size=0.2, random_state=42\n",
    ")"
   ]
  },
  {
   "cell_type": "code",
   "execution_count": null,
   "id": "ed03b058-ba22-456c-8476-16c1dfd24e83",
   "metadata": {},
   "outputs": [],
   "source": [
    "OneHotEncoder(drop='first', sparse_output=False)\n"
   ]
  },
  {
   "cell_type": "code",
   "execution_count": null,
   "id": "47547697-0b55-4025-8c44-811f163c0bb6",
   "metadata": {},
   "outputs": [],
   "source": [
    "numeric_features = ['Age', 'Years_Smoked', 'Pack_Years', 'BMI', \n",
    "                    'Lung_Function_Test_Result', 'Air_Quality_Index', \n",
    "                    'Tumor_Size_cm', 'Survival_Years', 'Follow_Up_Visits']\n"
   ]
  },
  {
   "cell_type": "code",
   "execution_count": null,
   "id": "6b50f69b-65fb-4167-b37e-4033b08c1bb7",
   "metadata": {},
   "outputs": [],
   "source": [
    "categorical_features = ['Gender', 'Smoking_History', 'Occupation', \n",
    "                        'Residential_Area', 'Physical_Activity_Level', \n",
    "                        'Dietary_Habits', 'Comorbidities', 'Stage_of_Cancer', \n",
    "                        'Treatment_Type', 'Medication_Response', 'Symptom_Progression']\n",
    "\n"
   ]
  },
  {
   "cell_type": "code",
   "execution_count": null,
   "id": "4e744caa-9308-4338-9d78-48a17ed5c763",
   "metadata": {},
   "outputs": [],
   "source": [
    "preprocessor = ColumnTransformer(\n",
    "    transformers=[\n",
    "        ('num', StandardScaler(), numeric_features),\n",
    "        ('cat', OneHotEncoder(drop='first', sparse_output=False), categorical_features)\n",
    "    ]\n",
    ")\n"
   ]
  },
  {
   "cell_type": "code",
   "execution_count": null,
   "id": "7a4af99b-0ad3-49b7-a978-a9cdd9f5efc6",
   "metadata": {},
   "outputs": [],
   "source": [
    "estimator = RandomForestClassifier(random_state=42)  # Change to LogisticRegression(max_iter=1000) if desired"
   ]
  },
  {
   "cell_type": "code",
   "execution_count": null,
   "id": "6b0e39e5-c517-4fbb-afc6-9ffe84b73f7b",
   "metadata": {},
   "outputs": [],
   "source": [
    "pipeline = Pipeline(steps=[\n",
    "    ('preprocessor', preprocessor),\n",
    "    ('logreg', LogisticRegression(max_iter=1000))\n",
    "])\n"
   ]
  },
  {
   "cell_type": "code",
   "execution_count": null,
   "id": "eac8c186-e231-43fd-a193-7c2128106192",
   "metadata": {},
   "outputs": [],
   "source": [
    "pipeline.fit(X_train, y_train)\n",
    "\n",
    "# Make predictions and evaluate the model.\n",
    "y_pred = pipeline.predict(X_test)\n",
    "print(\"Confusion Matrix:\")\n",
    "print(confusion_matrix(y_test, y_pred))\n",
    "print(\"\\nClassification Report:\")\n",
    "print(classification_report(y_test, y_pred))"
   ]
  },
  {
   "cell_type": "code",
   "execution_count": null,
   "id": "b4632c90-beb7-4878-a759-67765bd9ce29",
   "metadata": {},
   "outputs": [],
   "source": [
    "#RandomForestClassifier"
   ]
  },
  {
   "cell_type": "code",
   "execution_count": null,
   "id": "1612498a-8e72-4340-931c-edbf2999f2f9",
   "metadata": {},
   "outputs": [],
   "source": [
    "X = df.drop(columns=['Patient_ID', 'Year_of_Diagnosis', 'Metastasis_Status'])\n",
    "y = df['Metastasis_Status']"
   ]
  },
  {
   "cell_type": "code",
   "execution_count": null,
   "id": "a2d482ed-838f-49d6-be27-b07a4cbb4518",
   "metadata": {},
   "outputs": [],
   "source": [
    "# 4. Split the data into training and test sets.\n",
    "X_train, X_test, y_train, y_test = train_test_split(\n",
    "    X, y, test_size=0.2, random_state=42\n",
    ")"
   ]
  },
  {
   "cell_type": "code",
   "execution_count": null,
   "id": "b4a2345f-ecda-4830-8881-c8dfd4e4a4a8",
   "metadata": {},
   "outputs": [],
   "source": [
    "param_grid = {\n",
    "    'logreg__C': [0.01, 0.1, 1, 10, 100],  # Regularization strength\n",
    "    'logreg__penalty': ['l2'],            # For lbfgs solver, only 'l2' is allowe\n",
    "    # You can add more parameters if needed\n",
    "}"
   ]
  },
  {
   "cell_type": "code",
   "execution_count": null,
   "id": "12a605fe-c32c-4baa-b9e6-3c5890799f58",
   "metadata": {},
   "outputs": [],
   "source": [
    "\n",
    "\n",
    "grid = GridSearchCV(pipeline, param_grid, cv=3, verbose=2)\n",
    "grid.fit(X_train, y_train)"
   ]
  },
  {
   "cell_type": "code",
   "execution_count": null,
   "id": "cedbf9df-8417-4052-9b88-12d0cae40cd6",
   "metadata": {},
   "outputs": [],
   "source": [
    "print(\"Best Parameters:\", grid.best_params_)"
   ]
  },
  {
   "cell_type": "code",
   "execution_count": null,
   "id": "30ff74c9-99ef-47b2-af35-9ceaf83f96b8",
   "metadata": {},
   "outputs": [],
   "source": [
    "y_pred = grid.predict(X_test)\n",
    "print(\"Confusion Matrix:\")\n",
    "print(confusion_matrix(y_test, y_pred))\n",
    "print(\"\\nClassification Report:\")\n",
    "print(classification_report(y_test, y_pred))"
   ]
  },
  {
   "cell_type": "code",
   "execution_count": null,
   "id": "d73a9a17-f2ab-4f5f-9a85-e605c44d26a0",
   "metadata": {},
   "outputs": [],
   "source": []
  },
  {
   "cell_type": "code",
   "execution_count": null,
   "id": "a4ddb5aa-8004-494c-a00b-cdbfa8ebe706",
   "metadata": {},
   "outputs": [],
   "source": [
    "#Decision Tree Classifier"
   ]
  },
  {
   "cell_type": "code",
   "execution_count": null,
   "id": "b027b972-0d90-4286-9400-2971f4d3fee2",
   "metadata": {},
   "outputs": [],
   "source": [
    "X_encoded = pd.get_dummies(X, drop_first=True)\n"
   ]
  },
  {
   "cell_type": "code",
   "execution_count": null,
   "id": "c93910b2-eb4a-4ff6-afba-87b0a911c423",
   "metadata": {},
   "outputs": [],
   "source": [
    "X_train, X_test, y_train, y_test = train_test_split(\n",
    "    X_encoded, y, test_size=0.2, random_state=42\n",
    ")\n"
   ]
  },
  {
   "cell_type": "code",
   "execution_count": null,
   "id": "6f78130c-2e47-4159-a2df-f292b9fa0dd6",
   "metadata": {},
   "outputs": [],
   "source": [
    "dtc = DecisionTreeClassifier(random_state=42)\n",
    "param_grid = {\n",
    "    'criterion': ['gini', 'entropy'],\n",
    "    'min_samples_split': [2, 7, 11],\n",
    "    'max_depth': [None, 5, 10]\n",
    "}"
   ]
  },
  {
   "cell_type": "code",
   "execution_count": null,
   "id": "9a61a3e6-928e-4681-8d0a-165310d08ef9",
   "metadata": {},
   "outputs": [],
   "source": [
    "grid_dtc = GridSearchCV(dtc, param_grid, cv=3, verbose=2)\n",
    "grid_dtc.fit(X_train, y_train)"
   ]
  },
  {
   "cell_type": "code",
   "execution_count": null,
   "id": "43f37e5b-9d7a-4d93-9a55-d62099bce866",
   "metadata": {},
   "outputs": [],
   "source": [
    "# Now, the best estimator is available:\n",
    "best_dtc = grid_dtc.best_estimator_\n",
    "print(\"Best Parameters:\", grid_dtc.best_params_)"
   ]
  },
  {
   "cell_type": "code",
   "execution_count": null,
   "id": "36088258-0f63-4c23-82fd-120a116f87a0",
   "metadata": {},
   "outputs": [],
   "source": [
    "# Make predictions on the test set.\n",
    "y_predict_dtc = best_dtc.predict(X_test)\n",
    "print(\"Confusion Matrix:\")\n",
    "print(confusion_matrix(y_test, y_predict_dtc))\n",
    "print(\"\\nClassification Report:\")\n",
    "print(classification_report(y_test, y_predict_dtc))"
   ]
  },
  {
   "cell_type": "code",
   "execution_count": null,
   "id": "5182055f-1edc-44a5-9d25-89f47035f644",
   "metadata": {},
   "outputs": [],
   "source": []
  },
  {
   "cell_type": "code",
   "execution_count": null,
   "id": "5981860b-1d3f-4274-8a85-f5e219f0bead",
   "metadata": {},
   "outputs": [],
   "source": [
    "#K-Nearest Neighbor"
   ]
  },
  {
   "cell_type": "code",
   "execution_count": null,
   "id": "a3b1da33-5587-406d-afc0-1429f5325329",
   "metadata": {},
   "outputs": [],
   "source": [
    "knn=KNeighborsClassifier(n_neighbors=9)\n",
    "knn.fit(X_train,y_train)"
   ]
  },
  {
   "cell_type": "code",
   "execution_count": null,
   "id": "fecf4e34-9c4b-4925-8a1d-eeeb04b69a44",
   "metadata": {},
   "outputs": [],
   "source": [
    "y_pred_knn = knn.predict(X_test)\n",
    "y_pred_knn"
   ]
  },
  {
   "cell_type": "code",
   "execution_count": null,
   "id": "ce72b2e8-f2fc-4c5a-b7de-4e1e93848777",
   "metadata": {},
   "outputs": [],
   "source": [
    "knn_accuracy  = accuracy_score(y_test, y_pred_knn)\n",
    "print(f\"accuracy of knn model:{knn_accuracy * 100:.2f}%\")\n",
    "print(classification_report(y_test, y_pred_knn))\n",
    "confusion_matrix(y_test, y_pred_knn)"
   ]
  },
  {
   "cell_type": "code",
   "execution_count": null,
   "id": "c7b90c31-7cd5-4831-8fcf-9478b38c2a59",
   "metadata": {},
   "outputs": [],
   "source": [
    "# Define models\n",
    "models = {\n",
    "    \"Logistic Regression\": LogisticRegression(max_iter=1000),\n",
    "    \"Random Forest\": RandomForestClassifier(n_estimators=100, random_state=42),\n",
    "    \"Decision Tree\": DecisionTreeClassifier(random_state=42),\n",
    "    \"KNN\": KNeighborsClassifier(n_neighbors=9)\n",
    "}\n"
   ]
  },
  {
   "cell_type": "code",
   "execution_count": null,
   "id": "ce645667-1828-4ef6-9ea9-ef60752fcb70",
   "metadata": {},
   "outputs": [],
   "source": [
    "\n",
    "# Train and evaluate models\n",
    "accuracy_scores = {}\n",
    "\n",
    "for model_name, model in models.items():\n",
    "    pipeline = Pipeline(steps=[('preprocessor', preprocessor),\n",
    "                               ('classifier', model)])\n",
    "    \n",
    "    pipeline.fit(X_train, y_train)\n",
    "    y_pred = pipeline.predict(X_test)\n",
    "    accuracy = accuracy_score(y_test, y_pred)\n",
    "    accuracy_scores[model_name] = accuracy * 100\n"
   ]
  },
  {
   "cell_type": "code",
   "execution_count": null,
   "id": "c79a564a-dc40-4183-bfef-afe55d0d89de",
   "metadata": {},
   "outputs": [],
   "source": [
    "# Print accuracy scores\n",
    "print(\"Accuracy Scores of Each Model:\")\n",
    "for model, acc in accuracy_scores.items():\n",
    "    print(f\"{model}: {acc:.2f}%\")"
   ]
  },
  {
   "cell_type": "code",
   "execution_count": null,
   "id": "7dadf9b4-f7c5-47da-a75b-9f294752e806",
   "metadata": {},
   "outputs": [],
   "source": []
  },
  {
   "cell_type": "code",
   "execution_count": null,
   "id": "cd583a73-75e2-489e-a917-a6c06e42a6dd",
   "metadata": {},
   "outputs": [],
   "source": []
  },
  {
   "cell_type": "code",
   "execution_count": null,
   "id": "6cee5508-36a1-49c3-86ce-8d211c7eea94",
   "metadata": {},
   "outputs": [],
   "source": []
  },
  {
   "cell_type": "code",
   "execution_count": null,
   "id": "9fa8b6a2-94f5-4262-b463-5fddffb5d06b",
   "metadata": {},
   "outputs": [],
   "source": []
  },
  {
   "cell_type": "code",
   "execution_count": null,
   "id": "9945dd2b-02cc-4460-9f9a-2ceed7389b26",
   "metadata": {},
   "outputs": [],
   "source": []
  },
  {
   "cell_type": "code",
   "execution_count": null,
   "id": "55a8eed2-dd96-43b4-a19d-c81401053f17",
   "metadata": {},
   "outputs": [],
   "source": []
  },
  {
   "cell_type": "code",
   "execution_count": null,
   "id": "884f12f6-c3db-463b-b023-efb3df3b14ca",
   "metadata": {},
   "outputs": [],
   "source": []
  },
  {
   "cell_type": "code",
   "execution_count": null,
   "id": "45838a8e-a19e-4b45-a9d2-91fffa5a5ad9",
   "metadata": {},
   "outputs": [],
   "source": []
  }
 ],
 "metadata": {
  "kernelspec": {
   "display_name": "Python [conda env:anaconda3]",
   "language": "python",
   "name": "conda-env-anaconda3-py"
  },
  "language_info": {
   "codemirror_mode": {
    "name": "ipython",
    "version": 3
   },
   "file_extension": ".py",
   "mimetype": "text/x-python",
   "name": "python",
   "nbconvert_exporter": "python",
   "pygments_lexer": "ipython3",
   "version": "3.12.7"
  }
 },
 "nbformat": 4,
 "nbformat_minor": 5
}
